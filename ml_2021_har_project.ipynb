{
 "cells": [
  {
   "cell_type": "markdown",
   "metadata": {},
   "source": [
    "# Machine Learning 2021 Final Project\n",
    "## Human Activity Recognition\n",
    "### Oliver Wandschneider"
   ]
  },
  {
   "cell_type": "markdown",
   "metadata": {},
   "source": [
    "#### Dataset\n",
    "The dataset used consists of accelerometer and gyroscope data that was collected using a waist mounted smartphone. It can be downloaded [here](https://archive.ics.uci.edu/ml/machine-learning-databases/00341/HAPT%20Data%20Set.zip) but it is also possible to let it download automatically. This happens when the ``dataset/`` directory doesn't exist upon execution."
   ]
  },
  {
   "cell_type": "code",
   "execution_count": 65,
   "metadata": {},
   "outputs": [],
   "source": [
    "import io\n",
    "import os\n",
    "import zipfile\n",
    "\n",
    "import matplotlib.pyplot as plt\n",
    "import numpy as np\n",
    "import pandas as pd\n",
    "import requests\n",
    "import seaborn as sn\n",
    "import tensorflow as tf\n",
    "import tensorflow_addons as tfa\n",
    "from sklearn.metrics import classification_report\n",
    "from tensorflow.keras import layers\n",
    "\n",
    "np.set_printoptions(precision=3, suppress=True)\n",
    "\n",
    "#\n",
    "# Download the dataset directly.\n",
    "#\n",
    "if not os.path.isdir(\"dataset\"):\n",
    "    req = requests.get(\"https://archive.ics.uci.edu/ml/machine-learning-databases/00341/HAPT%20Data%20Set.zip\")\n",
    "    if req.ok:\n",
    "        zipped = zipfile.ZipFile(io.BytesIO(req.content))\n",
    "        zipped.extractall(\"dataset\")\n",
    "    else:\n",
    "        print(\"Could not download the data. Add it manually.\")\n"
   ]
  },
  {
   "cell_type": "markdown",
   "metadata": {},
   "source": [
    "#### Loading the data\n",
    "First of all the dataset is loaded. Both the train and the test data and their corresponding labels loaded as a 2-D array."
   ]
  },
  {
   "cell_type": "code",
   "execution_count": 66,
   "metadata": {},
   "outputs": [],
   "source": [
    "#\n",
    "# Load the csv data.\n",
    "#\n",
    "def load_data_arrays(feature_remove=None):\n",
    "    data_path = \"dataset\"\n",
    "    train_x_df = pd.read_csv(os.path.join(data_path, \"Train/X_train.txt\"), delimiter=\" \", header=None)\n",
    "    train_y_df = pd.read_csv(os.path.join(data_path, \"Train/y_train.txt\"), delimiter=\" \", header=None)\n",
    "\n",
    "    test_x_df = pd.read_csv(os.path.join(data_path, \"Test/X_test.txt\"), delimiter=\" \", header=None)\n",
    "    test_y_df = pd.read_csv(os.path.join(data_path, \"Test/y_test.txt\"), delimiter=\" \", header=None)\n",
    "\n",
    "    if feature_remove:\n",
    "        for inx in feature_remove:\n",
    "            del train_x_df[inx]\n",
    "            del test_x_df[inx]\n",
    "\n",
    "    features = train_x_df.copy().to_numpy()\n",
    "    labels = train_y_df.copy().to_numpy()\n",
    "\n",
    "    test_features = test_x_df.copy().to_numpy()\n",
    "    test_labels = test_y_df.copy().to_numpy()\n",
    "\n",
    "    return features, labels, test_features, test_labels\n",
    "\n",
    "\n",
    "feat, label, t_feat, t_label = load_data_arrays()\n"
   ]
  },
  {
   "cell_type": "code",
   "execution_count": 67,
   "metadata": {
    "scrolled": true
   },
   "outputs": [
    {
     "name": "stdout",
     "output_type": "stream",
     "text": [
      "[1722, 1544, 1407, 1801, 1979, 1958, 70, 33, 107, 85, 139, 84]\n"
     ]
    },
    {
     "data": {
      "image/png": "[encoded data removed]",
      "text/plain": [
       "<Figure size 432x288 with 1 Axes>"
      ]
     },
     "metadata": {
      "needs_background": "light"
     },
     "output_type": "display_data"
    },
    {
     "data": {
      "text/plain": [
       "<Figure size 1152x720 with 0 Axes>"
      ]
     },
     "metadata": {},
     "output_type": "display_data"
    }
   ],
   "source": [
    "#\n",
    "# Plots the distribution according to the number of occurences per label.\n",
    "#\n",
    "def plot_data_distribution(labels_1, label_2):\n",
    "    total = labels_1.reshape(-1).tolist()\n",
    "    total.extend(label_2.reshape(-1).tolist())\n",
    "    bins = sorted(list(set(total)))\n",
    "\n",
    "    plt.bar(bins, [total.count(bin_val) for bin_val in bins])\n",
    "    print([total.count(bin_val) for bin_val in bins])\n",
    "    plt.xticks(bins,\n",
    "               [\"WALKING\", \"WALKING_UPSTAIRS\", \"WALKING_DOWNSTAIRS\", \"SITTING\", \"STANDING\", \"LAYING\",\n",
    "                \"STAND_TO_SIT\", \"SIT_TO_STAND\", \"SIT_TO_LIE\", \"LIE_TO_SIT\", \"STAND_TO_LIE\", \"LIE_TO_STAND\"],\n",
    "               rotation=45,\n",
    "               rotation_mode=\"anchor\",\n",
    "               ha=\"right\")\n",
    "\n",
    "    plt.subplots_adjust(bottom=0.3)\n",
    "    plt.figure(figsize=(16, 10))\n",
    "    plt.show()\n",
    "\n",
    "\n",
    "plot_data_distribution(label, t_label)\n"
   ]
  },
  {
   "cell_type": "markdown",
   "metadata": {},
   "source": [
    "#### Splitting the dataset\n",
    "Because the label distribution is very unbalanced, I will handle the activities (labels 1-6) and the transitions (labels 7-12) individually.\n",
    "\n",
    "The following method is used to split the data into the activity and transition part."
   ]
  },
  {
   "cell_type": "code",
   "execution_count": 68,
   "metadata": {},
   "outputs": [],
   "source": [
    "#\n",
    "# Function to split the data into two parts\n",
    "# (activities = labels 1 to 6, transitions = labels 7 to 12)\n",
    "#\n",
    "def split_data_by_labels(feat_arr: np.array, label_arr: np.array, first_indices: list):\n",
    "    part_one_feat = list()\n",
    "    part_one_label = list()\n",
    "    part_two_feat = list()\n",
    "    part_two_label = list()\n",
    "\n",
    "    for inx, lbl in enumerate(label_arr):\n",
    "        if lbl[0] in first_indices:\n",
    "            part_one_label.append(lbl[0])\n",
    "            part_one_feat.append(feat_arr[inx])\n",
    "        else:\n",
    "            part_two_label.append(lbl[0])\n",
    "            part_two_feat.append(feat_arr[inx])\n",
    "\n",
    "    return np.asarray(part_one_feat), np.asarray(part_one_label), np.asarray(part_two_feat), np.asarray(part_two_label)\n",
    "\n",
    "\n",
    "#\n",
    "# Split the test data into activities and transitions.\n",
    "#\n",
    "train_feat, train_lab, trans_feat, trans_lab = split_data_by_labels(feat, label, [1, 2, 3, 4, 5, 6])\n",
    "test_feat, test_lab, test_trans_feat, test_trans_lab = split_data_by_labels(t_feat, t_label, [1, 2, 3, 4, 5, 6])\n"
   ]
  },
  {
   "cell_type": "code",
   "execution_count": 69,
   "metadata": {},
   "outputs": [],
   "source": [
    "#\n",
    "# Creates a one hot encoded vector of a label.\n",
    "#\n",
    "def create_one_hot(array, num_classes=6, offset=0):\n",
    "    return np.eye(num_classes)[array - 1 - offset]\n",
    "\n",
    "\n",
    "#\n",
    "# Plots a confusion matrix of the given labels.\n",
    "#\n",
    "def plot_confusion_matrix(labels, pred, index, columns):\n",
    "    conf = tf.math.confusion_matrix(labels=[np.argmax(val) for val in labels],\n",
    "                                    predictions=[np.argmax(val) for val in pred])\n",
    "\n",
    "    df_cm = pd.DataFrame(conf.numpy(), index=index, columns=columns)\n",
    "\n",
    "    plt.figure(figsize=(10, 7))\n",
    "    plt.tick_params(axis='both', which='major', labelsize=14, labelbottom=False, bottom=False, top=False,\n",
    "                    labeltop=True)\n",
    "    sn.heatmap(df_cm, annot=True, cmap='Blues', fmt='g')\n",
    "    plt.show()\n"
   ]
  },
  {
   "cell_type": "markdown",
   "metadata": {},
   "source": [
    "#### Activity Model\n",
    "The activity model contains an input layer of size 561, a dense layer of size 228, another dense layer of size 232 and a softmax activated output layer of size 6 (for 6 possible labels). In between the dense layers are also batch normalization layers.\n",
    "\n",
    "Because this is a multilayer classification I use the Categorical Crossentropy as a loss function. The learning rate is 0.0001 and the model will train 25 epochs in total."
   ]
  },
  {
   "cell_type": "code",
   "execution_count": 70,
   "metadata": {},
   "outputs": [
    {
     "name": "stdout",
     "output_type": "stream",
     "text": [
      "Model: \"sequential_21\"\n",
      "_________________________________________________________________\n",
      "Layer (type)                 Output Shape              Param #   \n",
      "=================================================================\n",
      "dense_63 (Dense)             (None, 228)               128136    \n",
      "_________________________________________________________________\n",
      "batch_normalization_49 (Batc (None, 228)               912       \n",
      "_________________________________________________________________\n",
      "activation_42 (Activation)   (None, 228)               0         \n",
      "_________________________________________________________________\n",
      "dense_64 (Dense)             (None, 232)               53128     \n",
      "_________________________________________________________________\n",
      "batch_normalization_50 (Batc (None, 232)               928       \n",
      "_________________________________________________________________\n",
      "activation_43 (Activation)   (None, 232)               0         \n",
      "_________________________________________________________________\n",
      "dense_65 (Dense)             (None, 6)                 1398      \n",
      "=================================================================\n",
      "Total params: 184,502\n",
      "Trainable params: 183,582\n",
      "Non-trainable params: 920\n",
      "_________________________________________________________________\n",
      "None\n",
      "Epoch 1/25\n",
      "116/116 [==============================] - 1s 4ms/step - loss: 0.8560 - f1_score: 0.7509 - val_loss: 1.3873 - val_f1_score: 0.3458\n",
      "Epoch 2/25\n",
      "116/116 [==============================] - 0s 3ms/step - loss: 0.4102 - f1_score: 0.9117 - val_loss: 0.8216 - val_f1_score: 0.8618\n",
      "Epoch 3/25\n",
      "116/116 [==============================] - 0s 3ms/step - loss: 0.2990 - f1_score: 0.9332 - val_loss: 0.4724 - val_f1_score: 0.8838\n",
      "Epoch 4/25\n",
      "116/116 [==============================] - 0s 3ms/step - loss: 0.2361 - f1_score: 0.9528 - val_loss: 0.3265 - val_f1_score: 0.9172\n",
      "Epoch 5/25\n",
      "116/116 [==============================] - 0s 3ms/step - loss: 0.1977 - f1_score: 0.9591 - val_loss: 0.2495 - val_f1_score: 0.9489\n",
      "Epoch 6/25\n",
      "116/116 [==============================] - 0s 4ms/step - loss: 0.1668 - f1_score: 0.9715 - val_loss: 0.2453 - val_f1_score: 0.9289\n",
      "Epoch 7/25\n",
      "116/116 [==============================] - 0s 3ms/step - loss: 0.1493 - f1_score: 0.9729 - val_loss: 0.2105 - val_f1_score: 0.9489\n",
      "Epoch 8/25\n",
      "116/116 [==============================] - 0s 3ms/step - loss: 0.1321 - f1_score: 0.9759 - val_loss: 0.2689 - val_f1_score: 0.9156\n",
      "Epoch 9/25\n",
      "116/116 [==============================] - 0s 3ms/step - loss: 0.1182 - f1_score: 0.9787 - val_loss: 0.1911 - val_f1_score: 0.9536\n",
      "Epoch 10/25\n",
      "116/116 [==============================] - 0s 3ms/step - loss: 0.1094 - f1_score: 0.9799 - val_loss: 0.1837 - val_f1_score: 0.9553\n",
      "Epoch 11/25\n",
      "116/116 [==============================] - 0s 3ms/step - loss: 0.1025 - f1_score: 0.9807 - val_loss: 0.1796 - val_f1_score: 0.9523\n",
      "Epoch 12/25\n",
      "116/116 [==============================] - 0s 3ms/step - loss: 0.0937 - f1_score: 0.9818 - val_loss: 0.2250 - val_f1_score: 0.9326\n",
      "Epoch 13/25\n",
      "116/116 [==============================] - 0s 3ms/step - loss: 0.0869 - f1_score: 0.9838 - val_loss: 0.1906 - val_f1_score: 0.9446\n",
      "Epoch 14/25\n",
      "116/116 [==============================] - 0s 3ms/step - loss: 0.0822 - f1_score: 0.9835 - val_loss: 0.1745 - val_f1_score: 0.9529\n",
      "Epoch 15/25\n",
      "116/116 [==============================] - 0s 3ms/step - loss: 0.0778 - f1_score: 0.9862 - val_loss: 0.1520 - val_f1_score: 0.9619\n",
      "Epoch 16/25\n",
      "116/116 [==============================] - 0s 3ms/step - loss: 0.0727 - f1_score: 0.9850 - val_loss: 0.2699 - val_f1_score: 0.9095\n",
      "Epoch 17/25\n",
      "116/116 [==============================] - 0s 3ms/step - loss: 0.0691 - f1_score: 0.9848 - val_loss: 0.1610 - val_f1_score: 0.9516\n",
      "Epoch 18/25\n",
      "116/116 [==============================] - 0s 3ms/step - loss: 0.0662 - f1_score: 0.9862 - val_loss: 0.1760 - val_f1_score: 0.9409\n",
      "Epoch 19/25\n",
      "116/116 [==============================] - 0s 3ms/step - loss: 0.0655 - f1_score: 0.9854 - val_loss: 0.1470 - val_f1_score: 0.9566\n",
      "Epoch 20/25\n",
      "116/116 [==============================] - 0s 3ms/step - loss: 0.0601 - f1_score: 0.9880 - val_loss: 0.1600 - val_f1_score: 0.9546\n",
      "Epoch 21/25\n",
      "116/116 [==============================] - 0s 4ms/step - loss: 0.0574 - f1_score: 0.9875 - val_loss: 0.1435 - val_f1_score: 0.9586\n",
      "Epoch 22/25\n",
      "116/116 [==============================] - 0s 3ms/step - loss: 0.0554 - f1_score: 0.9877 - val_loss: 0.2260 - val_f1_score: 0.9282\n",
      "Epoch 23/25\n",
      "116/116 [==============================] - 0s 3ms/step - loss: 0.0534 - f1_score: 0.9887 - val_loss: 0.1411 - val_f1_score: 0.9633\n",
      "Epoch 24/25\n",
      "116/116 [==============================] - 0s 3ms/step - loss: 0.0503 - f1_score: 0.9888 - val_loss: 0.2078 - val_f1_score: 0.9312\n",
      "Epoch 25/25\n",
      "116/116 [==============================] - 0s 4ms/step - loss: 0.0507 - f1_score: 0.9880 - val_loss: 0.1573 - val_f1_score: 0.9526\n"
     ]
    }
   ],
   "source": [
    "#\n",
    "# Activities\n",
    "#\n",
    "enc_train_lab = create_one_hot(train_lab)\n",
    "enc_test_lab = create_one_hot(test_lab)\n",
    "\n",
    "activity_model = tf.keras.Sequential([\n",
    "    layers.Dense(228, input_dim=train_feat.shape[1]),\n",
    "    layers.BatchNormalization(),\n",
    "    layers.Activation(\"sigmoid\"),\n",
    "    layers.Dense(232),\n",
    "    layers.BatchNormalization(),\n",
    "    layers.Activation(\"sigmoid\"),\n",
    "    layers.Dense(6, activation='softmax')\n",
    "])\n",
    "\n",
    "print(activity_model.summary())\n",
    "\n",
    "activity_model.compile(loss=tf.keras.losses.CategoricalCrossentropy(),\n",
    "                       metrics=[tfa.metrics.f_scores.F1Score(6, \"micro\")],\n",
    "                       optimizer=tf.optimizers.Adam(learning_rate=0.0001))\n",
    "\n",
    "act_hist = activity_model.fit(train_feat, enc_train_lab,\n",
    "                              epochs=25,\n",
    "                              validation_data=(test_feat, enc_test_lab),\n",
    "                              batch_size=64)"
   ]
  },
  {
   "cell_type": "markdown",
   "metadata": {},
   "source": [
    "#### Transition Model\n",
    "The transition model contains an input layer of size 561 that is a batch normalization layer. Then a dense layer of size 108, a batch normalization layer, and a dropout layer with a dropout rate of 0.5 follows.\n",
    "A drouput layer randomly sets an input to 0 with the frequency being the dropout rate.\n",
    "\n",
    "This is repeated with the dense layer having only 72 nerons this time and the output is also 6 neuron dense layer with a softmax activation."
   ]
  },
  {
   "cell_type": "code",
   "execution_count": 71,
   "metadata": {},
   "outputs": [
    {
     "name": "stdout",
     "output_type": "stream",
     "text": [
      "Model: \"sequential_22\"\n",
      "_________________________________________________________________\n",
      "Layer (type)                 Output Shape              Param #   \n",
      "=================================================================\n",
      "batch_normalization_51 (Batc (None, 561)               2244      \n",
      "_________________________________________________________________\n",
      "dense_66 (Dense)             (None, 108)               60696     \n",
      "_________________________________________________________________\n",
      "batch_normalization_52 (Batc (None, 108)               432       \n",
      "_________________________________________________________________\n",
      "activation_44 (Activation)   (None, 108)               0         \n",
      "_________________________________________________________________\n",
      "dropout_30 (Dropout)         (None, 108)               0         \n",
      "_________________________________________________________________\n",
      "dense_67 (Dense)             (None, 72)                7848      \n",
      "_________________________________________________________________\n",
      "batch_normalization_53 (Batc (None, 72)                288       \n",
      "_________________________________________________________________\n",
      "activation_45 (Activation)   (None, 72)                0         \n",
      "_________________________________________________________________\n",
      "dropout_31 (Dropout)         (None, 72)                0         \n",
      "_________________________________________________________________\n",
      "dense_68 (Dense)             (None, 6)                 438       \n",
      "=================================================================\n",
      "Total params: 71,946\n",
      "Trainable params: 70,464\n",
      "Non-trainable params: 1,482\n",
      "_________________________________________________________________\n",
      "None\n",
      "Epoch 1/25\n",
      "11/11 [==============================] - 1s 18ms/step - loss: 1.8358 - f1_score: 0.2188 - val_loss: 1.6787 - val_f1_score: 0.1506\n",
      "Epoch 2/25\n",
      "11/11 [==============================] - 0s 4ms/step - loss: 1.4344 - f1_score: 0.4545 - val_loss: 1.4574 - val_f1_score: 0.4699\n",
      "Epoch 3/25\n",
      "11/11 [==============================] - 0s 4ms/step - loss: 1.3129 - f1_score: 0.4744 - val_loss: 1.2862 - val_f1_score: 0.4036\n",
      "Epoch 4/25\n",
      "11/11 [==============================] - 0s 5ms/step - loss: 1.1351 - f1_score: 0.5455 - val_loss: 1.1682 - val_f1_score: 0.4458\n",
      "Epoch 5/25\n",
      "11/11 [==============================] - 0s 4ms/step - loss: 1.0807 - f1_score: 0.5483 - val_loss: 1.1290 - val_f1_score: 0.4458\n",
      "Epoch 6/25\n",
      "11/11 [==============================] - 0s 4ms/step - loss: 0.9664 - f1_score: 0.6080 - val_loss: 1.0260 - val_f1_score: 0.5301\n",
      "Epoch 7/25\n",
      "11/11 [==============================] - 0s 4ms/step - loss: 0.8966 - f1_score: 0.6222 - val_loss: 0.9635 - val_f1_score: 0.5301\n",
      "Epoch 8/25\n",
      "11/11 [==============================] - 0s 4ms/step - loss: 0.8540 - f1_score: 0.6733 - val_loss: 1.0078 - val_f1_score: 0.4940\n",
      "Epoch 9/25\n",
      "11/11 [==============================] - 0s 4ms/step - loss: 0.8187 - f1_score: 0.6903 - val_loss: 0.8617 - val_f1_score: 0.6205\n",
      "Epoch 10/25\n",
      "11/11 [==============================] - 0s 4ms/step - loss: 0.7888 - f1_score: 0.6790 - val_loss: 0.9614 - val_f1_score: 0.5301\n",
      "Epoch 11/25\n",
      "11/11 [==============================] - 0s 4ms/step - loss: 0.7259 - f1_score: 0.7216 - val_loss: 0.8726 - val_f1_score: 0.5843\n",
      "Epoch 12/25\n",
      "11/11 [==============================] - 0s 4ms/step - loss: 0.6280 - f1_score: 0.7869 - val_loss: 0.7725 - val_f1_score: 0.7108\n",
      "Epoch 13/25\n",
      "11/11 [==============================] - 0s 4ms/step - loss: 0.5957 - f1_score: 0.7869 - val_loss: 0.7764 - val_f1_score: 0.6627\n",
      "Epoch 14/25\n",
      "11/11 [==============================] - 0s 4ms/step - loss: 0.5411 - f1_score: 0.8295 - val_loss: 0.6777 - val_f1_score: 0.7048\n",
      "Epoch 15/25\n",
      "11/11 [==============================] - 0s 5ms/step - loss: 0.5226 - f1_score: 0.8153 - val_loss: 0.7224 - val_f1_score: 0.6747\n",
      "Epoch 16/25\n",
      "11/11 [==============================] - 0s 5ms/step - loss: 0.4615 - f1_score: 0.8381 - val_loss: 0.6655 - val_f1_score: 0.7349\n",
      "Epoch 17/25\n",
      "11/11 [==============================] - 0s 4ms/step - loss: 0.5039 - f1_score: 0.8352 - val_loss: 0.7050 - val_f1_score: 0.7410\n",
      "Epoch 18/25\n",
      "11/11 [==============================] - 0s 4ms/step - loss: 0.4583 - f1_score: 0.8324 - val_loss: 0.6163 - val_f1_score: 0.7771\n",
      "Epoch 19/25\n",
      "11/11 [==============================] - 0s 4ms/step - loss: 0.3923 - f1_score: 0.8636 - val_loss: 0.6421 - val_f1_score: 0.7771\n",
      "Epoch 20/25\n",
      "11/11 [==============================] - 0s 4ms/step - loss: 0.3987 - f1_score: 0.8722 - val_loss: 0.6072 - val_f1_score: 0.7590\n",
      "Epoch 21/25\n",
      "11/11 [==============================] - 0s 4ms/step - loss: 0.3720 - f1_score: 0.8722 - val_loss: 0.6483 - val_f1_score: 0.7410\n",
      "Epoch 22/25\n",
      "11/11 [==============================] - 0s 4ms/step - loss: 0.4094 - f1_score: 0.8608 - val_loss: 0.6387 - val_f1_score: 0.7590\n",
      "Epoch 23/25\n",
      "11/11 [==============================] - 0s 4ms/step - loss: 0.3902 - f1_score: 0.8494 - val_loss: 0.6461 - val_f1_score: 0.7530\n",
      "Epoch 24/25\n",
      "11/11 [==============================] - 0s 4ms/step - loss: 0.3702 - f1_score: 0.8693 - val_loss: 0.6190 - val_f1_score: 0.7470\n",
      "Epoch 25/25\n",
      "11/11 [==============================] - 0s 4ms/step - loss: 0.3312 - f1_score: 0.8977 - val_loss: 0.6525 - val_f1_score: 0.7470\n"
     ]
    }
   ],
   "source": [
    "#\n",
    "# Transitions\n",
    "#\n",
    "enc_trans_lab = create_one_hot(trans_lab, num_classes=6, offset=6)\n",
    "enc_test_trans_lab = create_one_hot(test_trans_lab, num_classes=6, offset=6)\n",
    "\n",
    "transition_model = tf.keras.Sequential([\n",
    "    layers.BatchNormalization(input_dim=trans_feat.shape[1]),\n",
    "    layers.Dense(108),\n",
    "    layers.BatchNormalization(),\n",
    "    layers.Activation(\"sigmoid\"),\n",
    "    layers.Dropout(.5),\n",
    "    layers.Dense(72),\n",
    "    layers.BatchNormalization(),\n",
    "    layers.Activation(\"sigmoid\"),\n",
    "    layers.Dropout(.5),\n",
    "    layers.Dense(6, activation='softmax')\n",
    "])\n",
    "\n",
    "print(transition_model.summary())\n",
    "\n",
    "transition_model.compile(loss=tf.keras.losses.CategoricalCrossentropy(),\n",
    "                         metrics=[tfa.metrics.f_scores.F1Score(6, \"micro\")],\n",
    "                         optimizer=tf.optimizers.Adam(learning_rate=0.005))\n",
    "\n",
    "trans_hist = transition_model.fit(trans_feat, enc_trans_lab,\n",
    "                                  epochs=25,\n",
    "                                  validation_data=(test_trans_feat, enc_test_trans_lab))\n"
   ]
  },
  {
   "cell_type": "markdown",
   "metadata": {},
   "source": [
    "#### Model Evaluation\n",
    "To decide if the learning rate is adequate I look at the plot of the loss over the epochs and evaluate them like this:\n",
    "![](https://cs231n.github.io/assets/nn3/learningrates.jpeg)\n",
    "\n",
    "Also for checking if the model over- or underfits I looked at the gap between training accuracy and validation accuracy as follows:\n",
    "![](https://cs231n.github.io/assets/nn3/accuracies.jpeg)\n",
    "\n",
    "Images: [(source)](https://cs231n.github.io/neural-networks-3/#baby)\n",
    "\n",
    "Using a confusion matrix I plot the predicted and true labels that were assigned on the test data."
   ]
  },
  {
   "cell_type": "code",
   "execution_count": 72,
   "metadata": {},
   "outputs": [
    {
     "data": {
      "image/png": "[encoded data removed]",
      "text/plain": [
       "<Figure size 432x288 with 1 Axes>"
      ]
     },
     "metadata": {
      "needs_background": "light"
     },
     "output_type": "display_data"
    },
    {
     "data": {
      "image/png": "[encoded data removed]",
      "text/plain": [
       "<Figure size 432x288 with 1 Axes>"
      ]
     },
     "metadata": {
      "needs_background": "light"
     },
     "output_type": "display_data"
    },
    {
     "data": {
      "image/png": "[encoded data removed]",
      "text/plain": [
       "<Figure size 720x504 with 2 Axes>"
      ]
     },
     "metadata": {
      "needs_background": "light"
     },
     "output_type": "display_data"
    },
    {
     "name": "stdout",
     "output_type": "stream",
     "text": [
      "              precision    recall  f1-score   support\n",
      "\n",
      "           0       0.97      1.00      0.98       496\n",
      "           1       0.98      0.97      0.97       471\n",
      "           2       0.99      0.97      0.98       420\n",
      "           3       0.99      0.79      0.88       508\n",
      "           4       0.84      0.99      0.91       556\n",
      "           5       1.00      1.00      1.00       545\n",
      "\n",
      "    accuracy                           0.95      2996\n",
      "   macro avg       0.96      0.95      0.95      2996\n",
      "weighted avg       0.96      0.95      0.95      2996\n",
      "\n"
     ]
    }
   ],
   "source": [
    "plt.ylim((0, max(act_hist.history[\"loss\"]) * 1.1))\n",
    "plt.plot(act_hist.history[\"loss\"], label=\"Training\")\n",
    "plt.title(\"Loss\")\n",
    "plt.legend()\n",
    "plt.show()\n",
    "\n",
    "plt.ylim((0, 1.1))\n",
    "plt.plot(act_hist.history[\"f1_score\"], label=\"Training\")\n",
    "plt.plot(act_hist.history[\"val_f1_score\"], label=\"Validation\")\n",
    "plt.title(\"Train - Val\")\n",
    "plt.legend()\n",
    "plt.show()\n",
    "\n",
    "act_pred = activity_model.predict(test_feat)\n",
    "act_classes = [i for i in range(1, 7)]\n",
    "\n",
    "plot_confusion_matrix(labels=enc_test_lab,\n",
    "                      pred=act_pred,\n",
    "                      index=act_classes,\n",
    "                      columns=act_classes)\n",
    "\n",
    "print(classification_report(enc_test_lab.argmax(axis=1), act_pred.argmax(axis=1)))"
   ]
  },
  {
   "cell_type": "code",
   "execution_count": 73,
   "metadata": {},
   "outputs": [
    {
     "data": {
      "image/png": "[encoded data removed]",
      "text/plain": [
       "<Figure size 432x288 with 1 Axes>"
      ]
     },
     "metadata": {
      "needs_background": "light"
     },
     "output_type": "display_data"
    },
    {
     "data": {
      "image/png": "[encoded data removed]",
      "text/plain": [
       "<Figure size 432x288 with 1 Axes>"
      ]
     },
     "metadata": {
      "needs_background": "light"
     },
     "output_type": "display_data"
    },
    {
     "data": {
      "image/png": "[encoded data removed]",
      "text/plain": [
       "<Figure size 720x504 with 2 Axes>"
      ]
     },
     "metadata": {
      "needs_background": "light"
     },
     "output_type": "display_data"
    },
    {
     "name": "stdout",
     "output_type": "stream",
     "text": [
      "              precision    recall  f1-score   support\n",
      "\n",
      "           7       1.00      0.87      0.93        23\n",
      "           8       0.91      1.00      0.95        10\n",
      "           9       0.61      0.69      0.65        32\n",
      "          10       0.74      0.68      0.71        25\n",
      "          11       0.75      0.73      0.74        49\n",
      "          12       0.68      0.70      0.69        27\n",
      "\n",
      "    accuracy                           0.75       166\n",
      "   macro avg       0.78      0.78      0.78       166\n",
      "weighted avg       0.75      0.75      0.75       166\n",
      "\n"
     ]
    }
   ],
   "source": [
    "plt.ylim((0, max(trans_hist.history[\"loss\"]) * 1.1))\n",
    "plt.plot(trans_hist.history[\"loss\"], label=\"Training\")\n",
    "plt.title(\"Loss\")\n",
    "plt.legend()\n",
    "plt.show()\n",
    "\n",
    "plt.ylim((0, 1.1))\n",
    "plt.plot(trans_hist.history[\"f1_score\"], label=\"Training\")\n",
    "plt.plot(trans_hist.history[\"val_f1_score\"], label=\"Validation\")\n",
    "plt.title(\"Train - Val\")\n",
    "plt.legend()\n",
    "plt.show()\n",
    "\n",
    "trans_pred = transition_model.predict(test_trans_feat)\n",
    "trans_classes = [i for i in range(7, 13)]\n",
    "\n",
    "plot_confusion_matrix(labels=enc_test_trans_lab,\n",
    "                      pred=trans_pred,\n",
    "                      index=trans_classes,\n",
    "                      columns=trans_classes)\n",
    "\n",
    "print(classification_report(enc_test_trans_lab.argmax(axis=1) + 7, trans_pred.argmax(axis=1) + 7))\n"
   ]
  },
  {
   "cell_type": "code",
   "execution_count": null,
   "metadata": {},
   "outputs": [],
   "source": []
  }
 ],
 "metadata": {
  "kernelspec": {
   "display_name": "Python 3",
   "language": "python",
   "name": "python3"
  },
  "language_info": {
   "codemirror_mode": {
    "name": "ipython",
    "version": 3
   },
   "file_extension": ".py",
   "mimetype": "text/x-python",
   "name": "python",
   "nbconvert_exporter": "python",
   "pygments_lexer": "ipython3",
   "version": "3.8.10"
  }
 },
 "nbformat": 4,
 "nbformat_minor": 1
}