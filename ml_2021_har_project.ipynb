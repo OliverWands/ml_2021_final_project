{
 "cells": [
  {
   "cell_type": "markdown",
   "metadata": {},
   "source": [
    "# Machine Learning 2021 Final Project\n",
    "## Human Activity Recognition\n",
    "### Oliver Wandschneider"
   ]
  },
  {
   "cell_type": "markdown",
   "metadata": {},
   "source": [
    "#### Dataset\n",
    "The dataset used consists of accelerometer and gyroscope data that was collected using a waist mounted smartphone. It can be downloaded [here](https://archive.ics.uci.edu/ml/machine-learning-databases/00341/HAPT%20Data%20Set.zip) but it is also possible to let it download automatically. This happens when the ``dataset/`` directory doesn't exist upon execution."
   ]
  },
  {
   "cell_type": "code",
   "execution_count": 1,
   "metadata": {},
   "outputs": [],
   "source": [
    "import io\n",
    "import os\n",
    "import zipfile\n",
    "\n",
    "import matplotlib.pyplot as plt\n",
    "import numpy as np\n",
    "import pandas as pd\n",
    "import requests\n",
    "import seaborn as sn\n",
    "import tensorflow as tf\n",
    "import tensorflow_addons as tfa\n",
    "from sklearn.metrics import classification_report\n",
    "from tensorflow.keras import layers\n",
    "\n",
    "np.set_printoptions(precision=3, suppress=True)\n",
    "\n",
    "#\n",
    "# Download the dataset directly.\n",
    "#\n",
    "if not os.path.isdir(\"dataset\"):\n",
    "    req = requests.get(\"https://archive.ics.uci.edu/ml/machine-learning-databases/00341/HAPT%20Data%20Set.zip\")\n",
    "    if req.ok:\n",
    "        zipped = zipfile.ZipFile(io.BytesIO(req.content))\n",
    "        zipped.extractall(\"dataset\")\n",
    "    else:\n",
    "        print(\"Could not download the data. Add it manually.\")\n"
   ]
  },
  {
   "cell_type": "markdown",
   "metadata": {},
   "source": [
    "#### Loading the data\n",
    "First of all the dataset is loaded. Both the train and the test data and their corresponding labels loaded as a 2-D array."
   ]
  },
  {
   "cell_type": "code",
   "execution_count": 2,
   "metadata": {},
   "outputs": [],
   "source": [
    "#\n",
    "# Load the csv data.\n",
    "#\n",
    "def load_data_arrays(feature_remove=None):\n",
    "    data_path = \"dataset\"\n",
    "    train_x_df = pd.read_csv(os.path.join(data_path, \"Train/X_train.txt\"), delimiter=\" \", header=None)\n",
    "    train_y_df = pd.read_csv(os.path.join(data_path, \"Train/y_train.txt\"), delimiter=\" \", header=None)\n",
    "\n",
    "    test_x_df = pd.read_csv(os.path.join(data_path, \"Test/X_test.txt\"), delimiter=\" \", header=None)\n",
    "    test_y_df = pd.read_csv(os.path.join(data_path, \"Test/y_test.txt\"), delimiter=\" \", header=None)\n",
    "\n",
    "    if feature_remove:\n",
    "        for inx in feature_remove:\n",
    "            del train_x_df[inx]\n",
    "            del test_x_df[inx]\n",
    "\n",
    "    features = train_x_df.copy().to_numpy()\n",
    "    labels = train_y_df.copy().to_numpy()\n",
    "\n",
    "    test_features = test_x_df.copy().to_numpy()\n",
    "    test_labels = test_y_df.copy().to_numpy()\n",
    "\n",
    "    return features, labels, test_features, test_labels\n",
    "\n",
    "\n",
    "feat, label, t_feat, t_label = load_data_arrays()\n"
   ]
  },
  {
   "cell_type": "code",
   "execution_count": 3,
   "metadata": {
    "scrolled": true
   },
   "outputs": [
    {
     "name": "stdout",
     "output_type": "stream",
     "text": [
      "[1722, 1544, 1407, 1801, 1979, 1958, 70, 33, 107, 85, 139, 84]\n"
     ]
    },
    {
     "data": {
      "image/png": "[encoded data removed]",
      "text/plain": [
       "<Figure size 432x288 with 1 Axes>"
      ]
     },
     "metadata": {
      "needs_background": "light"
     },
     "output_type": "display_data"
    },
    {
     "data": {
      "text/plain": [
       "<Figure size 1152x720 with 0 Axes>"
      ]
     },
     "metadata": {},
     "output_type": "display_data"
    }
   ],
   "source": [
    "#\n",
    "# Plots the distribution according to the number of occurences per label.\n",
    "#\n",
    "def plot_data_distribution(labels_1, label_2):\n",
    "    total = labels_1.reshape(-1).tolist()\n",
    "    total.extend(label_2.reshape(-1).tolist())\n",
    "    bins = sorted(list(set(total)))\n",
    "\n",
    "    plt.bar(bins, [total.count(bin_val) for bin_val in bins])\n",
    "    print([total.count(bin_val) for bin_val in bins])\n",
    "    plt.xticks(bins,\n",
    "               [\"WALKING\", \"WALKING_UPSTAIRS\", \"WALKING_DOWNSTAIRS\", \"SITTING\", \"STANDING\", \"LAYING\",\n",
    "                \"STAND_TO_SIT\", \"SIT_TO_STAND\", \"SIT_TO_LIE\", \"LIE_TO_SIT\", \"STAND_TO_LIE\", \"LIE_TO_STAND\"],\n",
    "               rotation=45,\n",
    "               rotation_mode=\"anchor\",\n",
    "               ha=\"right\")\n",
    "\n",
    "    plt.subplots_adjust(bottom=0.3)\n",
    "    plt.figure(figsize=(16, 10))\n",
    "    plt.show()\n",
    "\n",
    "\n",
    "plot_data_distribution(label, t_label)\n"
   ]
  },
  {
   "cell_type": "markdown",
   "metadata": {},
   "source": [
    "#### Splitting the dataset\n",
    "Because the label distribution is very unbalanced, I will handle the activities (labels 1-6) and the transitions (labels 7-12) individually.\n",
    "\n",
    "The following method is used to split the data into the activity and transition part."
   ]
  },
  {
   "cell_type": "code",
   "execution_count": 4,
   "metadata": {},
   "outputs": [],
   "source": [
    "#\n",
    "# Function to split the data into two parts\n",
    "# (activities = labels 1 to 6, transitions = labels 7 to 12)\n",
    "#\n",
    "def split_data_by_labels(feat_arr: np.array, label_arr: np.array, first_indices: list):\n",
    "    part_one_feat = list()\n",
    "    part_one_label = list()\n",
    "    part_two_feat = list()\n",
    "    part_two_label = list()\n",
    "\n",
    "    for inx, lbl in enumerate(label_arr):\n",
    "        if lbl[0] in first_indices:\n",
    "            part_one_label.append(lbl[0])\n",
    "            part_one_feat.append(feat_arr[inx])\n",
    "        else:\n",
    "            part_two_label.append(lbl[0])\n",
    "            part_two_feat.append(feat_arr[inx])\n",
    "\n",
    "    return np.asarray(part_one_feat), np.asarray(part_one_label), np.asarray(part_two_feat), np.asarray(part_two_label)\n",
    "\n",
    "\n",
    "#\n",
    "# Split the test data into activities and transitions.\n",
    "#\n",
    "train_feat, train_lab, trans_feat, trans_lab = split_data_by_labels(feat, label, [1, 2, 3, 4, 5, 6])\n",
    "test_feat, test_lab, test_trans_feat, test_trans_lab = split_data_by_labels(t_feat, t_label, [1, 2, 3, 4, 5, 6])\n"
   ]
  },
  {
   "cell_type": "code",
   "execution_count": 5,
   "metadata": {},
   "outputs": [],
   "source": [
    "#\n",
    "# Creates a one hot encoded vector of a label.\n",
    "#\n",
    "def create_one_hot(array, num_classes=6, offset=0):\n",
    "    return np.eye(num_classes)[array - 1 - offset]\n",
    "\n",
    "\n",
    "#\n",
    "# Plots a confusion matrix of the given labels.\n",
    "#\n",
    "def plot_confusion_matrix(labels, pred, index, columns):\n",
    "    conf = tf.math.confusion_matrix(labels=[np.argmax(val) for val in labels],\n",
    "                                    predictions=[np.argmax(val) for val in pred])\n",
    "\n",
    "    df_cm = pd.DataFrame(conf.numpy(), index=index, columns=columns)\n",
    "\n",
    "    plt.figure(figsize=(10, 7))\n",
    "    plt.tick_params(axis='both', which='major', labelsize=14, labelbottom=False, bottom=False, top=False,\n",
    "                    labeltop=True)\n",
    "    sn.heatmap(df_cm, annot=True, cmap='Blues', fmt='g')\n",
    "    plt.show()\n"
   ]
  },
  {
   "cell_type": "markdown",
   "metadata": {},
   "source": [
    "#### Activity Model\n",
    "The activity model contains an input layer of size 561, a dense layer of size 228, another dense layer of size 232 and a softmax activated output layer of size 6 (for 6 possible labels). In between the dense layers are also batch normalization layers.\n",
    "\n",
    "Because this is a multilayer classification I use the Categorical Crossentropy as a loss function. The learning rate is 0.0001 and the model will train 25 epochs in total."
   ]
  },
  {
   "cell_type": "code",
   "execution_count": 45,
   "metadata": {},
   "outputs": [
    {
     "name": "stdout",
     "output_type": "stream",
     "text": [
      "Model: \"sequential_14\"\n",
      "_________________________________________________________________\n",
      "Layer (type)                 Output Shape              Param #   \n",
      "=================================================================\n",
      "dense_42 (Dense)             (None, 228)               128136    \n",
      "_________________________________________________________________\n",
      "batch_normalization_40 (Batc (None, 228)               912       \n",
      "_________________________________________________________________\n",
      "activation_28 (Activation)   (None, 228)               0         \n",
      "_________________________________________________________________\n",
      "dense_43 (Dense)             (None, 232)               53128     \n",
      "_________________________________________________________________\n",
      "batch_normalization_41 (Batc (None, 232)               928       \n",
      "_________________________________________________________________\n",
      "activation_29 (Activation)   (None, 232)               0         \n",
      "_________________________________________________________________\n",
      "dense_44 (Dense)             (None, 6)                 1398      \n",
      "=================================================================\n",
      "Total params: 184,502\n",
      "Trainable params: 183,582\n",
      "Non-trainable params: 920\n",
      "_________________________________________________________________\n",
      "None\n",
      "Epoch 1/25\n",
      "116/116 [==============================] - 1s 5ms/step - loss: 0.9363 - f1_score: 0.7214 - val_loss: 1.3743 - val_f1_score: 0.5113\n",
      "Epoch 2/25\n",
      "116/116 [==============================] - 0s 3ms/step - loss: 0.4167 - f1_score: 0.9183 - val_loss: 0.8363 - val_f1_score: 0.8925\n",
      "Epoch 3/25\n",
      "116/116 [==============================] - 0s 3ms/step - loss: 0.2987 - f1_score: 0.9419 - val_loss: 0.4964 - val_f1_score: 0.8755\n",
      "Epoch 4/25\n",
      "116/116 [==============================] - 0s 3ms/step - loss: 0.2369 - f1_score: 0.9551 - val_loss: 0.3472 - val_f1_score: 0.9095\n",
      "Epoch 5/25\n",
      "116/116 [==============================] - 0s 3ms/step - loss: 0.1962 - f1_score: 0.9657 - val_loss: 0.2522 - val_f1_score: 0.9463\n",
      "Epoch 6/25\n",
      "116/116 [==============================] - 0s 3ms/step - loss: 0.1695 - f1_score: 0.9699 - val_loss: 0.2551 - val_f1_score: 0.9322\n",
      "Epoch 7/25\n",
      "116/116 [==============================] - 0s 3ms/step - loss: 0.1511 - f1_score: 0.9719 - val_loss: 0.3696 - val_f1_score: 0.8668\n",
      "Epoch 8/25\n",
      "116/116 [==============================] - 0s 3ms/step - loss: 0.1353 - f1_score: 0.9742 - val_loss: 0.1988 - val_f1_score: 0.9519\n",
      "Epoch 9/25\n",
      "116/116 [==============================] - 1s 4ms/step - loss: 0.1213 - f1_score: 0.9799 - val_loss: 0.3367 - val_f1_score: 0.8785\n",
      "Epoch 10/25\n",
      "116/116 [==============================] - 0s 3ms/step - loss: 0.1117 - f1_score: 0.9798 - val_loss: 0.1825 - val_f1_score: 0.9536\n",
      "Epoch 11/25\n",
      "116/116 [==============================] - 0s 3ms/step - loss: 0.1028 - f1_score: 0.9826 - val_loss: 0.2947 - val_f1_score: 0.8932\n",
      "Epoch 12/25\n",
      "116/116 [==============================] - 0s 4ms/step - loss: 0.0956 - f1_score: 0.9825 - val_loss: 0.1798 - val_f1_score: 0.9513\n",
      "Epoch 13/25\n",
      "116/116 [==============================] - 0s 4ms/step - loss: 0.0883 - f1_score: 0.9841 - val_loss: 0.2221 - val_f1_score: 0.9316\n",
      "Epoch 14/25\n",
      "116/116 [==============================] - 0s 3ms/step - loss: 0.0841 - f1_score: 0.9845 - val_loss: 0.1964 - val_f1_score: 0.9386\n",
      "Epoch 15/25\n",
      "116/116 [==============================] - 0s 3ms/step - loss: 0.0788 - f1_score: 0.9848 - val_loss: 0.1909 - val_f1_score: 0.9389\n",
      "Epoch 16/25\n",
      "116/116 [==============================] - 0s 3ms/step - loss: 0.0741 - f1_score: 0.9864 - val_loss: 0.1673 - val_f1_score: 0.9556\n",
      "Epoch 17/25\n",
      "116/116 [==============================] - 0s 3ms/step - loss: 0.0710 - f1_score: 0.9854 - val_loss: 0.1528 - val_f1_score: 0.9599\n",
      "Epoch 18/25\n",
      "116/116 [==============================] - 0s 3ms/step - loss: 0.0678 - f1_score: 0.9854 - val_loss: 0.1504 - val_f1_score: 0.9576\n",
      "Epoch 19/25\n",
      "116/116 [==============================] - 0s 3ms/step - loss: 0.0641 - f1_score: 0.9858 - val_loss: 0.1476 - val_f1_score: 0.9573\n",
      "Epoch 20/25\n",
      "116/116 [==============================] - 0s 3ms/step - loss: 0.0603 - f1_score: 0.9875 - val_loss: 0.3239 - val_f1_score: 0.8902\n",
      "Epoch 21/25\n",
      "116/116 [==============================] - 0s 3ms/step - loss: 0.0566 - f1_score: 0.9880 - val_loss: 0.1425 - val_f1_score: 0.9589\n",
      "Epoch 22/25\n",
      "116/116 [==============================] - 0s 3ms/step - loss: 0.0582 - f1_score: 0.9873 - val_loss: 0.1495 - val_f1_score: 0.9559\n",
      "Epoch 23/25\n",
      "116/116 [==============================] - 0s 3ms/step - loss: 0.0525 - f1_score: 0.9888 - val_loss: 0.1507 - val_f1_score: 0.9546\n",
      "Epoch 24/25\n",
      "116/116 [==============================] - 0s 3ms/step - loss: 0.0510 - f1_score: 0.9902 - val_loss: 0.3022 - val_f1_score: 0.8882\n",
      "Epoch 25/25\n",
      "116/116 [==============================] - 0s 3ms/step - loss: 0.0509 - f1_score: 0.9881 - val_loss: 0.1709 - val_f1_score: 0.9493\n"
     ]
    }
   ],
   "source": [
    "#\n",
    "# Activities\n",
    "#\n",
    "enc_train_lab = create_one_hot(train_lab)\n",
    "enc_test_lab = create_one_hot(test_lab)\n",
    "\n",
    "activity_model = tf.keras.Sequential([\n",
    "    layers.Dense(228, input_dim=train_feat.shape[1]),\n",
    "    layers.BatchNormalization(),\n",
    "    layers.Activation(\"sigmoid\"),\n",
    "    layers.Dense(232),\n",
    "    layers.BatchNormalization(),\n",
    "    layers.Activation(\"sigmoid\"),\n",
    "    layers.Dense(6, activation='softmax')\n",
    "])\n",
    "\n",
    "print(activity_model.summary())\n",
    "\n",
    "activity_model.compile(loss=tf.keras.losses.CategoricalCrossentropy(),\n",
    "                       metrics=[tfa.metrics.f_scores.F1Score(6, \"micro\")],\n",
    "                       optimizer=tf.optimizers.Adam(learning_rate=0.0001))\n",
    "\n",
    "act_hist = activity_model.fit(train_feat, enc_train_lab,\n",
    "                              epochs=25,\n",
    "                              validation_data=(test_feat, enc_test_lab),\n",
    "                              batch_size=64)"
   ]
  },
  {
   "cell_type": "markdown",
   "metadata": {},
   "source": [
    "#### Transition Model\n",
    "The transition model contains an input layer of size 561 that is a batch normalization layer. Then a dense layer of size 108, a batch normalization layer, and a dropout layer with a dropout rate of 0.5 follows.\n",
    "A drouput layer randomly sets an input to 0 with the frequency being the dropout rate and is supposed to overfitting.\n",
    "\n",
    "This is repeated with the dense layer having only 72 nerons this time and the output is also 6 neuron dense layer with a softmax activation."
   ]
  },
  {
   "cell_type": "code",
   "execution_count": 34,
   "metadata": {},
   "outputs": [
    {
     "name": "stdout",
     "output_type": "stream",
     "text": [
      "Model: \"sequential_12\"\n",
      "_________________________________________________________________\n",
      "Layer (type)                 Output Shape              Param #   \n",
      "=================================================================\n",
      "batch_normalization_35 (Batc (None, 561)               2244      \n",
      "_________________________________________________________________\n",
      "dense_36 (Dense)             (None, 108)               60696     \n",
      "_________________________________________________________________\n",
      "batch_normalization_36 (Batc (None, 108)               432       \n",
      "_________________________________________________________________\n",
      "activation_24 (Activation)   (None, 108)               0         \n",
      "_________________________________________________________________\n",
      "dropout_14 (Dropout)         (None, 108)               0         \n",
      "_________________________________________________________________\n",
      "dense_37 (Dense)             (None, 72)                7848      \n",
      "_________________________________________________________________\n",
      "batch_normalization_37 (Batc (None, 72)                288       \n",
      "_________________________________________________________________\n",
      "activation_25 (Activation)   (None, 72)                0         \n",
      "_________________________________________________________________\n",
      "dropout_15 (Dropout)         (None, 72)                0         \n",
      "_________________________________________________________________\n",
      "dense_38 (Dense)             (None, 6)                 438       \n",
      "=================================================================\n",
      "Total params: 71,946\n",
      "Trainable params: 70,464\n",
      "Non-trainable params: 1,482\n",
      "_________________________________________________________________\n",
      "None\n"
     ]
    }
   ],
   "source": [
    "#\n",
    "# Transitions\n",
    "#\n",
    "enc_trans_lab = create_one_hot(trans_lab, num_classes=6, offset=6)\n",
    "enc_test_trans_lab = create_one_hot(test_trans_lab, num_classes=6, offset=6)\n",
    "\n",
    "transition_model = tf.keras.Sequential([\n",
    "    layers.BatchNormalization(input_dim=trans_feat.shape[1]),\n",
    "    layers.Dense(108),\n",
    "    layers.BatchNormalization(),\n",
    "    layers.Activation(\"sigmoid\"),\n",
    "    layers.Dropout(.5),\n",
    "    layers.Dense(72),\n",
    "    layers.BatchNormalization(),\n",
    "    layers.Activation(\"sigmoid\"),\n",
    "    layers.Dropout(.5),\n",
    "    layers.Dense(6, activation='softmax')\n",
    "])\n",
    "\n",
    "print(transition_model.summary())\n",
    "\n",
    "transition_model.compile(loss=tf.keras.losses.CategoricalCrossentropy(),\n",
    "                         metrics=[tfa.metrics.f_scores.F1Score(6, \"micro\")],\n",
    "                         optimizer=tf.optimizers.Adam(learning_rate=0.005))\n",
    "\n",
    "trans_hist = transition_model.fit(trans_feat, enc_trans_lab,\n",
    "                                  epochs=25,\n",
    "                                  validation_data=(test_trans_feat, enc_test_trans_lab))\n"
   ]
  },
  {
   "cell_type": "markdown",
   "metadata": {},
   "source": [
    "### Model Evaluation\n",
    "#### General\n",
    "To decide if the learning rate is adequate I look at the plot of the loss over the epochs and evaluate them like this:\n",
    "![](https://cs231n.github.io/assets/nn3/learningrates.jpeg)\n",
    "\n",
    "Also for checking if the model over- or underfits I looked at the gap between training accuracy and validation accuracy as follows:\n",
    "![](https://cs231n.github.io/assets/nn3/accuracies.jpeg)\n",
    "\n",
    "Images: [(source)](https://cs231n.github.io/neural-networks-3/#baby)\n",
    "\n",
    "Using a confusion matrix I plot the predicted and true labels that were assigned on the test data."
   ]
  },
  {
   "cell_type": "markdown",
   "metadata": {},
   "source": [
    "#### Activity Model Evaluation\n",
    "The activity model works very well.\n",
    "The learning rate seems fine and there is little overfit.\n",
    "The resulting metrics are very good (f1-score = 0.95) especially considering that the highest achieved (according to the owner of [this](https://github.com/deadskull7/Human-Activity-Recognition-with-Neural-Network-using-Gyroscopic-and-Accelerometer-variables) repository) was 0.98 during fitting their model.\n",
    "\n",
    "However, when looking at their final classification report, **my results are actually better** with $precision=0.96$, $recall=0.95$, $f_1{-}score=0.95$ of my model compared to their results $precision=0.95, $recall=0.94$, $f_1{-}score=0.94$. My model perfomed better by 0.1 across the board.\n",
    "\n",
    "I also tested the model with a higher amount of epochs (100) but the results stayed the roughly same."
   ]
  },
  {
   "cell_type": "code",
   "execution_count": 47,
   "metadata": {},
   "outputs": [
    {
     "data": {
      "image/png": "[encoded data removed]",
      "text/plain": [
       "<Figure size 432x288 with 1 Axes>"
      ]
     },
     "metadata": {
      "needs_background": "light"
     },
     "output_type": "display_data"
    },
    {
     "data": {
      "image/png": "[encoded data removed]",
      "text/plain": [
       "<Figure size 432x288 with 1 Axes>"
      ]
     },
     "metadata": {
      "needs_background": "light"
     },
     "output_type": "display_data"
    },
    {
     "name": "stdout",
     "output_type": "stream",
     "text": [
      "1 WALKING\n",
      "2 WALKING_UPSTAIRS\n",
      "3 WALKING_DOWNSTAIRS\n",
      "4 SITTING\n",
      "5 STANDING\n",
      "6 LAYING\n"
     ]
    },
    {
     "data": {
      "image/png": "[encoded data removed]",
      "text/plain": [
       "<Figure size 720x504 with 2 Axes>"
      ]
     },
     "metadata": {
      "needs_background": "light"
     },
     "output_type": "display_data"
    },
    {
     "name": "stdout",
     "output_type": "stream",
     "text": [
      "                    precision    recall  f1-score   support\n",
      "\n",
      "           WALKING       0.91      1.00      0.95       496\n",
      "  WALKING_UPSTAIRS       0.99      0.90      0.94       471\n",
      "WALKING_DOWNSTAIRS       0.99      0.99      0.99       420\n",
      "           SITTING       0.98      0.83      0.90       508\n",
      "          STANDING       0.87      0.98      0.92       556\n",
      "            LAYING       1.00      1.00      1.00       545\n",
      "\n",
      "          accuracy                           0.95      2996\n",
      "         macro avg       0.96      0.95      0.95      2996\n",
      "      weighted avg       0.95      0.95      0.95      2996\n",
      "\n"
     ]
    }
   ],
   "source": [
    "plt.ylim((0, max(act_hist.history[\"loss\"]) * 1.1))\n",
    "plt.plot(act_hist.history[\"loss\"], label=\"Training\")\n",
    "plt.title(\"Loss\")\n",
    "plt.legend()\n",
    "plt.show()\n",
    "\n",
    "plt.ylim((0, 1.1))\n",
    "# The f1 score of tf is the same as categorical accuracy.\n",
    "plt.plot(act_hist.history[\"f1_score\"], label=\"Training\")\n",
    "plt.plot(act_hist.history[\"val_f1_score\"], label=\"Validation\")\n",
    "plt.title(\"Train - Val\")\n",
    "plt.legend()\n",
    "plt.show()\n",
    "\n",
    "act_pred = activity_model.predict(test_feat)\n",
    "act_classes = [i for i in range(1, 7)]\n",
    "\n",
    "label_text = [\"WALKING\", \"WALKING_UPSTAIRS\", \"WALKING_DOWNSTAIRS\", \"SITTING\", \"STANDING\", \"LAYING\"]\n",
    "for inx, label in enumerate(label_text):\n",
    "    print(inx + 1, label)\n",
    "\n",
    "plot_confusion_matrix(labels=enc_test_lab,\n",
    "                      pred=act_pred,\n",
    "                      index=act_classes,\n",
    "                      columns=act_classes)\n",
    "\n",
    "print(classification_report(enc_test_lab.argmax(axis=1),\n",
    "                            act_pred.argmax(axis=1),\n",
    "                            target_names=label_text))"
   ]
  },
  {
   "cell_type": "markdown",
   "metadata": {},
   "source": [
    "#### Transition Model Evaluation\n",
    "The model performs worse as the activity model, which is to be expected as the amount of transition data is just a fraction of the *true* activity data.\n",
    "The learning rate seems ok, but there is more overfitting than on the activity model.\n",
    "The dropout layers do server their purpose of reducing overfitting which can be seen in the following plot, that shows the training and validation accuracy without the dropout layers.\n",
    "![](img/tr_no_dropout.png)\n",
    "Missclassifications almost never happen between transitions that are the reverse of each other (e.g. (7) stand-to-sit $\\leftrightarrow$ (8) sit-to-stand), but rather between labels that share a part (e.g (9) sit-to-lie and (11) stand-to-lie)."
   ]
  },
  {
   "cell_type": "code",
   "execution_count": 48,
   "metadata": {},
   "outputs": [
    {
     "data": {
      "image/png": "[encoded data removed]",
      "text/plain": [
       "<Figure size 432x288 with 1 Axes>"
      ]
     },
     "metadata": {
      "needs_background": "light"
     },
     "output_type": "display_data"
    },
    {
     "data": {
      "image/png": "[encoded data removed]",
      "text/plain": [
       "<Figure size 432x288 with 1 Axes>"
      ]
     },
     "metadata": {
      "needs_background": "light"
     },
     "output_type": "display_data"
    },
    {
     "name": "stdout",
     "output_type": "stream",
     "text": [
      "7 STAND_TO_SIT\n",
      "8 SIT_TO_STAND\n",
      "9 SIT_TO_LIE\n",
      "10 LIE_TO_SIT\n",
      "11 STAND_TO_LIE\n",
      "12 LIE_TO_STAND\n"
     ]
    },
    {
     "data": {
      "image/png": "[encoded data removed]",
      "text/plain": [
       "<Figure size 720x504 with 2 Axes>"
      ]
     },
     "metadata": {
      "needs_background": "light"
     },
     "output_type": "display_data"
    },
    {
     "name": "stdout",
     "output_type": "stream",
     "text": [
      "              precision    recall  f1-score   support\n",
      "\n",
      "STAND_TO_SIT       0.95      0.91      0.93        23\n",
      "SIT_TO_STAND       1.00      0.90      0.95        10\n",
      "  SIT_TO_LIE       0.62      0.75      0.68        32\n",
      "  LIE_TO_SIT       0.70      0.76      0.73        25\n",
      "STAND_TO_LIE       0.74      0.69      0.72        49\n",
      "LIE_TO_STAND       0.78      0.67      0.72        27\n",
      "\n",
      "    accuracy                           0.75       166\n",
      "   macro avg       0.80      0.78      0.79       166\n",
      "weighted avg       0.76      0.75      0.76       166\n",
      "\n"
     ]
    }
   ],
   "source": [
    "plt.ylim((0, max(trans_hist.history[\"loss\"]) * 1.1))\n",
    "plt.plot(trans_hist.history[\"loss\"], label=\"Training\")\n",
    "plt.title(\"Loss\")\n",
    "plt.legend()\n",
    "plt.show()\n",
    "\n",
    "plt.ylim((0, 1.1))\n",
    "plt.plot(trans_hist.history[\"f1_score\"], label=\"Training\")\n",
    "plt.plot(trans_hist.history[\"val_f1_score\"], label=\"Validation\")\n",
    "plt.title(\"Train - Val\")\n",
    "plt.legend()\n",
    "plt.show()\n",
    "\n",
    "trans_pred = transition_model.predict(test_trans_feat)\n",
    "trans_classes = [i for i in range(7, 13)]\n",
    "\n",
    "label_text = [\"STAND_TO_SIT\", \"SIT_TO_STAND\", \"SIT_TO_LIE\", \"LIE_TO_SIT\", \"STAND_TO_LIE\", \"LIE_TO_STAND\"]\n",
    "for inx, label in enumerate(label_text):\n",
    "    print(inx + 7, label)\n",
    "\n",
    "plot_confusion_matrix(labels=enc_test_trans_lab,\n",
    "                      pred=trans_pred,\n",
    "                      index=trans_classes,\n",
    "                      columns=trans_classes)\n",
    "\n",
    "print(classification_report(enc_test_trans_lab.argmax(axis=1) + 7,\n",
    "                            trans_pred.argmax(axis=1) + 7,\n",
    "                            target_names=label_text))\n"
   ]
  }
 ],
 "metadata": {
  "kernelspec": {
   "display_name": "Python 3",
   "language": "python",
   "name": "python3"
  },
  "language_info": {
   "codemirror_mode": {
    "name": "ipython",
    "version": 3
   },
   "file_extension": ".py",
   "mimetype": "text/x-python",
   "name": "python",
   "nbconvert_exporter": "python",
   "pygments_lexer": "ipython3",
   "version": "3.8.10"
  }
 },
 "nbformat": 4,
 "nbformat_minor": 1
}